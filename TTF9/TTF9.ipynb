{
 "cells": [
  {
   "cell_type": "code",
   "execution_count": 5,
   "metadata": {},
   "outputs": [],
   "source": [
    "def f(x, y): return 3*x**2 + 4*y**2 - x*y + 5*x - 3*y + 7"
   ]
  },
  {
   "cell_type": "code",
   "execution_count": 6,
   "metadata": {},
   "outputs": [],
   "source": [
    "def df_dx(x, y): return 6*x - y + 5\n",
    "def df_dy(x, y): return 8*y - x - 3"
   ]
  },
  {
   "cell_type": "code",
   "execution_count": 7,
   "metadata": {},
   "outputs": [
    {
     "name": "stdout",
     "output_type": "stream",
     "text": [
      "iiteration 1: x = 0.50000000, y = 0.77500000, f(x,y) = 9.94000000\n",
      "\n",
      "iiteration 2: x = 0.13875000, y = 0.62193750, f(x,y) = 7.34662338\n",
      "\n",
      "iiteration 3: x = -0.12177813, y = 0.51707359, f(x,y) = 6.01680699\n",
      "\n"
     ]
    }
   ],
   "source": [
    "# stochastic gradient method(i hope is correct..)just the step size is miu right?.. i hope..\n",
    "x, y = 1, 1\n",
    "for i in range(1, 4):\n",
    "    x = x - 0.05 * df_dx(x, y)\n",
    "    y = y - 0.05 * df_dy(x, y)\n",
    "    print(f\"iiteration {i}: x = {x:.8f}, y = {y:.8f}, f(x,y) = {f(x,y):.8f}\\n\")"
   ]
  }
 ],
 "metadata": {
  "kernelspec": {
   "display_name": ".venv",
   "language": "python",
   "name": "python3"
  },
  "language_info": {
   "codemirror_mode": {
    "name": "ipython",
    "version": 3
   },
   "file_extension": ".py",
   "mimetype": "text/x-python",
   "name": "python",
   "nbconvert_exporter": "python",
   "pygments_lexer": "ipython3",
   "version": "3.11.1"
  }
 },
 "nbformat": 4,
 "nbformat_minor": 2
}
