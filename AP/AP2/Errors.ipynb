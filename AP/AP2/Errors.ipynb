{
 "cells": [
  {
   "cell_type": "code",
   "id": "initial_id",
   "metadata": {
    "collapsed": true,
    "ExecuteTime": {
     "end_time": "2024-10-26T21:52:10.856612Z",
     "start_time": "2024-10-26T21:52:10.852933Z"
    }
   },
   "source": [
    "num = 0.4\n",
    "binary_rep = format(num, '.30f')\n",
    "\n",
    "print(f\"Decimal: {num}\\nBinary: {binary_rep}\")"
   ],
   "outputs": [
    {
     "name": "stdout",
     "output_type": "stream",
     "text": [
      "Decimal: 0.4\n",
      "Binary: 0.400000000000000022204460492503\n"
     ]
    }
   ],
   "execution_count": 4
  },
  {
   "metadata": {
    "ExecuteTime": {
     "end_time": "2024-10-26T21:56:54.272545Z",
     "start_time": "2024-10-26T21:56:54.267065Z"
    }
   },
   "cell_type": "code",
   "source": [
    "result = 0.0\n",
    "for i in range(10):\n",
    "    result += 0.1\n",
    "print(f\"Expected result: 1.0\\nActual result: {result}\")"
   ],
   "id": "4f812ccbbac89185",
   "outputs": [
    {
     "name": "stdout",
     "output_type": "stream",
     "text": [
      "Expected result: 1.0\n",
      "Actual result: 0.9999999999999999\n"
     ]
    }
   ],
   "execution_count": 5
  },
  {
   "metadata": {
    "ExecuteTime": {
     "end_time": "2024-10-26T21:59:32.332147Z",
     "start_time": "2024-10-26T21:59:32.327111Z"
    }
   },
   "cell_type": "code",
   "source": [
    "a = 0.2 + 0.1\n",
    "b = 0.3\n",
    "print(f\"a : {a}\\nb : {b}\\nEqual: {a == b}\")"
   ],
   "id": "6e82de1a214b4887",
   "outputs": [
    {
     "name": "stdout",
     "output_type": "stream",
     "text": [
      "a : 0.30000000000000004\n",
      "b : 0.3\n",
      "Equal: False\n"
     ]
    }
   ],
   "execution_count": 8
  },
  {
   "metadata": {
    "ExecuteTime": {
     "end_time": "2024-10-26T22:01:43.921643Z",
     "start_time": "2024-10-26T22:01:43.917789Z"
    }
   },
   "cell_type": "code",
   "source": [
    "result = 1.2 - 1.0\n",
    "rounded_result = round(result, 2)\n",
    "print(f\"Original Result: {result}\\nRounded result: {rounded_result}\")"
   ],
   "id": "ef9efea962d479e9",
   "outputs": [
    {
     "name": "stdout",
     "output_type": "stream",
     "text": [
      "Original Result: 0.19999999999999996\n",
      "Rounded result: 0.2\n"
     ]
    }
   ],
   "execution_count": 9
  },
  {
   "metadata": {
    "ExecuteTime": {
     "end_time": "2024-10-26T22:03:12.054305Z",
     "start_time": "2024-10-26T22:03:12.044255Z"
    }
   },
   "cell_type": "code",
   "source": [
    "from decimal import Decimal, getcontext\n",
    "\n",
    "getcontext().prec = 4 # so here we can set precision to 4 decimal places\n",
    "result = Decimal('1.2') - Decimal('1.0')\n",
    "print(f\"High Precision Result: {result}\")"
   ],
   "id": "7bf04c90204b9c52",
   "outputs": [
    {
     "name": "stdout",
     "output_type": "stream",
     "text": [
      "High Precision Result: 0.2\n"
     ]
    }
   ],
   "execution_count": 10
  },
  {
   "metadata": {},
   "cell_type": "code",
   "outputs": [],
   "execution_count": null,
   "source": "",
   "id": "eea1c8989b452d76"
  }
 ],
 "metadata": {
  "kernelspec": {
   "display_name": "Python 3",
   "language": "python",
   "name": "python3"
  },
  "language_info": {
   "codemirror_mode": {
    "name": "ipython",
    "version": 2
   },
   "file_extension": ".py",
   "mimetype": "text/x-python",
   "name": "python",
   "nbconvert_exporter": "python",
   "pygments_lexer": "ipython2",
   "version": "2.7.6"
  }
 },
 "nbformat": 4,
 "nbformat_minor": 5
}
